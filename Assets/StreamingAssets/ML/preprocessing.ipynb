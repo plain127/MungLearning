{
 "cells": [
  {
   "cell_type": "code",
   "execution_count": 58,
   "metadata": {},
   "outputs": [],
   "source": [
    "import pandas as pd"
   ]
  },
  {
   "cell_type": "code",
   "execution_count": 59,
   "metadata": {},
   "outputs": [],
   "source": [
    "df = pd.read_csv('./dog_adopt_eda.csv',encoding='utf-8')"
   ]
  },
  {
   "cell_type": "code",
   "execution_count": 60,
   "metadata": {},
   "outputs": [
    {
     "data": {
      "text/html": [
       "<div>\n",
       "<style scoped>\n",
       "    .dataframe tbody tr th:only-of-type {\n",
       "        vertical-align: middle;\n",
       "    }\n",
       "\n",
       "    .dataframe tbody tr th {\n",
       "        vertical-align: top;\n",
       "    }\n",
       "\n",
       "    .dataframe thead th {\n",
       "        text-align: right;\n",
       "    }\n",
       "</style>\n",
       "<table border=\"1\" class=\"dataframe\">\n",
       "  <thead>\n",
       "    <tr style=\"text-align: right;\">\n",
       "      <th></th>\n",
       "      <th>품종</th>\n",
       "      <th>성별</th>\n",
       "      <th>무게(Kg)</th>\n",
       "      <th>상태</th>\n",
       "      <th>나이</th>\n",
       "      <th>성격</th>\n",
       "      <th>색</th>\n",
       "      <th>중성화유무</th>\n",
       "      <th>질병</th>\n",
       "    </tr>\n",
       "  </thead>\n",
       "  <tbody>\n",
       "    <tr>\n",
       "      <th>0</th>\n",
       "      <td>믹스견</td>\n",
       "      <td>수컷</td>\n",
       "      <td>9.3</td>\n",
       "      <td>미입양</td>\n",
       "      <td>44</td>\n",
       "      <td>사람을 잘 따름</td>\n",
       "      <td>어두운계열</td>\n",
       "      <td>아니오</td>\n",
       "      <td>건강</td>\n",
       "    </tr>\n",
       "    <tr>\n",
       "      <th>1</th>\n",
       "      <td>품종견</td>\n",
       "      <td>수컷</td>\n",
       "      <td>4.3</td>\n",
       "      <td>입양</td>\n",
       "      <td>68</td>\n",
       "      <td>사람을 잘 따름</td>\n",
       "      <td>밝은계열</td>\n",
       "      <td>예</td>\n",
       "      <td>질병</td>\n",
       "    </tr>\n",
       "    <tr>\n",
       "      <th>2</th>\n",
       "      <td>품종견</td>\n",
       "      <td>수컷</td>\n",
       "      <td>6.0</td>\n",
       "      <td>입양</td>\n",
       "      <td>32</td>\n",
       "      <td>사람을 잘 따름</td>\n",
       "      <td>밝은계열</td>\n",
       "      <td>예</td>\n",
       "      <td>질병</td>\n",
       "    </tr>\n",
       "    <tr>\n",
       "      <th>3</th>\n",
       "      <td>품종견</td>\n",
       "      <td>수컷</td>\n",
       "      <td>4.5</td>\n",
       "      <td>입양</td>\n",
       "      <td>44</td>\n",
       "      <td>사람을 잘 따름</td>\n",
       "      <td>어두운계열</td>\n",
       "      <td>예</td>\n",
       "      <td>건강</td>\n",
       "    </tr>\n",
       "    <tr>\n",
       "      <th>4</th>\n",
       "      <td>품종견</td>\n",
       "      <td>암컷</td>\n",
       "      <td>5.2</td>\n",
       "      <td>입양</td>\n",
       "      <td>67</td>\n",
       "      <td>사람을 잘 따름</td>\n",
       "      <td>밝은계열</td>\n",
       "      <td>미상</td>\n",
       "      <td>질병</td>\n",
       "    </tr>\n",
       "  </tbody>\n",
       "</table>\n",
       "</div>"
      ],
      "text/plain": [
       "    품종  성별  무게(Kg)   상태  나이        성격      색 중성화유무  질병\n",
       "0  믹스견  수컷     9.3  미입양  44  사람을 잘 따름  어두운계열   아니오  건강\n",
       "1  품종견  수컷     4.3   입양  68  사람을 잘 따름   밝은계열     예  질병\n",
       "2  품종견  수컷     6.0   입양  32  사람을 잘 따름   밝은계열     예  질병\n",
       "3  품종견  수컷     4.5   입양  44  사람을 잘 따름  어두운계열     예  건강\n",
       "4  품종견  암컷     5.2   입양  67  사람을 잘 따름   밝은계열    미상  질병"
      ]
     },
     "execution_count": 60,
     "metadata": {},
     "output_type": "execute_result"
    }
   ],
   "source": [
    "df.head()"
   ]
  },
  {
   "cell_type": "code",
   "execution_count": 61,
   "metadata": {},
   "outputs": [],
   "source": [
    "X = df.drop(columns=['상태'])\n",
    "y = df[['상태']]"
   ]
  },
  {
   "cell_type": "code",
   "execution_count": 62,
   "metadata": {},
   "outputs": [],
   "source": [
    "from sklearn.model_selection import train_test_split\n",
    "X_train, X_test, y_train, y_test = train_test_split(X, y, test_size=0.2, random_state=42)"
   ]
  },
  {
   "cell_type": "code",
   "execution_count": 63,
   "metadata": {},
   "outputs": [],
   "source": [
    "import os\n",
    "import category_encoders as ce\n",
    "from imblearn.over_sampling import SMOTE\n",
    "from sklearn.preprocessing import LabelEncoder\n",
    "from sklearn.preprocessing import MinMaxScaler"
   ]
  },
  {
   "cell_type": "code",
   "execution_count": 64,
   "metadata": {},
   "outputs": [],
   "source": [
    "le = LabelEncoder()\n",
    "mm = MinMaxScaler()"
   ]
  },
  {
   "cell_type": "code",
   "execution_count": 65,
   "metadata": {},
   "outputs": [
    {
     "data": {
      "text/plain": [
       "array(['믹스견', '품종견'], dtype=object)"
      ]
     },
     "execution_count": 65,
     "metadata": {},
     "output_type": "execute_result"
    }
   ],
   "source": [
    "#품종 : Label Encoding\n",
    "X_train['품종'] = le.fit_transform(X_train['품종'])\n",
    "X_test['품종'] = le.transform(X_test['품종'])\n",
    "le.classes_"
   ]
  },
  {
   "cell_type": "code",
   "execution_count": 66,
   "metadata": {},
   "outputs": [
    {
     "data": {
      "text/plain": [
       "array(['수컷', '암컷'], dtype=object)"
      ]
     },
     "execution_count": 66,
     "metadata": {},
     "output_type": "execute_result"
    }
   ],
   "source": [
    "#성별 : Label Encoding\n",
    "X_train['성별'] = le.fit_transform(X_train['성별'])\n",
    "X_test['성별'] = le.transform(X_test['성별'])\n",
    "le.classes_"
   ]
  },
  {
   "cell_type": "code",
   "execution_count": 67,
   "metadata": {},
   "outputs": [
    {
     "data": {
      "text/plain": [
       "array(['미입양', '입양'], dtype=object)"
      ]
     },
     "execution_count": 67,
     "metadata": {},
     "output_type": "execute_result"
    }
   ],
   "source": [
    "#상태 : Label Encoding\n",
    "y_train['상태'] = le.fit_transform(y_train['상태'])\n",
    "y_test['상태'] = le.transform(y_test['상태'])\n",
    "le.classes_"
   ]
  },
  {
   "cell_type": "code",
   "execution_count": 68,
   "metadata": {},
   "outputs": [
    {
     "data": {
      "text/plain": [
       "array(['사람을 경계함', '사람을 잘 따름', '중립'], dtype=object)"
      ]
     },
     "execution_count": 68,
     "metadata": {},
     "output_type": "execute_result"
    }
   ],
   "source": [
    "#성격 : Label Encoding\n",
    "X_train['성격'] = le.fit_transform(X_train['성격'])\n",
    "X_test['성격'] = le.transform(X_test['성격'])\n",
    "le.classes_"
   ]
  },
  {
   "cell_type": "code",
   "execution_count": 69,
   "metadata": {},
   "outputs": [
    {
     "data": {
      "text/plain": [
       "array(['밝은계열', '어두운계열', '혼합색계열'], dtype=object)"
      ]
     },
     "execution_count": 69,
     "metadata": {},
     "output_type": "execute_result"
    }
   ],
   "source": [
    "#색 : Label Encoding\n",
    "X_train['색'] = le.fit_transform(X_train['색'])\n",
    "X_test['색'] = le.transform(X_test['색'])\n",
    "le.classes_"
   ]
  },
  {
   "cell_type": "code",
   "execution_count": 70,
   "metadata": {},
   "outputs": [
    {
     "data": {
      "text/plain": [
       "array(['미상', '아니오', '예'], dtype=object)"
      ]
     },
     "execution_count": 70,
     "metadata": {},
     "output_type": "execute_result"
    }
   ],
   "source": [
    "#중성화유무 : Label Encoding\n",
    "X_train['중성화유무'] = le.fit_transform(X_train['중성화유무'])\n",
    "X_test['중성화유무'] = le.transform(X_test['중성화유무'])\n",
    "le.classes_"
   ]
  },
  {
   "cell_type": "code",
   "execution_count": 71,
   "metadata": {},
   "outputs": [
    {
     "data": {
      "text/plain": [
       "array(['건강', '질병'], dtype=object)"
      ]
     },
     "execution_count": 71,
     "metadata": {},
     "output_type": "execute_result"
    }
   ],
   "source": [
    "#질병 : Label Encoding\n",
    "X_train['질병'] = le.fit_transform(X_train['질병'])\n",
    "X_test['질병'] = le.transform(X_test['질병'])\n",
    "le.classes_"
   ]
  },
  {
   "cell_type": "code",
   "execution_count": 51,
   "metadata": {},
   "outputs": [],
   "source": [
    "#무게 : MinMaxScaler\n",
    "X_train['무게(Kg)'] = mm.fit_transform(X_train[['무게(Kg)']])\n",
    "X_test['무게(Kg)'] = mm.transform(X_test[['무게(Kg)']])"
   ]
  },
  {
   "cell_type": "code",
   "execution_count": 52,
   "metadata": {},
   "outputs": [],
   "source": [
    "#나이 : MinMaxScaler\n",
    "X_train['나이'] = mm.fit_transform(X_train[['나이']])\n",
    "X_test['나이'] = mm.transform(X_test[['나이']])"
   ]
  },
  {
   "cell_type": "code",
   "execution_count": 53,
   "metadata": {},
   "outputs": [
    {
     "name": "stdout",
     "output_type": "stream",
     "text": [
      "Resampled dataset shape: (1968, 8), (1968, 1)\n"
     ]
    }
   ],
   "source": [
    "smote = SMOTE(sampling_strategy='auto', random_state=42)\n",
    "X_train, y_train = smote.fit_resample(X_train, y_train)\n",
    "print(f\"Resampled dataset shape: {X_train.shape}, {y_train.shape}\")"
   ]
  },
  {
   "cell_type": "code",
   "execution_count": 54,
   "metadata": {},
   "outputs": [],
   "source": [
    "X_train.to_csv('dog_adopt_preprocessing_X_train.csv', encoding='utf-8-sig', index=False)\n",
    "X_test.to_csv('dog_adopt_preprocessing_X_test.csv', encoding='utf-8-sig', index=False)\n",
    "y_train.to_csv('dog_adopt_preprocessing_y_train.csv', encoding='utf-8-sig', index=False)\n",
    "y_test.to_csv('dog_adopt_preprocessing_y_test.csv', encoding='utf-8-sig', index=False)"
   ]
  },
  {
   "cell_type": "code",
   "execution_count": 55,
   "metadata": {},
   "outputs": [],
   "source": [
    "import pickle"
   ]
  },
  {
   "cell_type": "code",
   "execution_count": 56,
   "metadata": {},
   "outputs": [],
   "source": [
    "with open('minmax_scaler.pkl', 'wb') as f:\n",
    "    pickle.dump(mm, f)"
   ]
  },
  {
   "cell_type": "code",
   "execution_count": null,
   "metadata": {},
   "outputs": [],
   "source": []
  }
 ],
 "metadata": {
  "kernelspec": {
   "display_name": ".venv",
   "language": "python",
   "name": "python3"
  },
  "language_info": {
   "codemirror_mode": {
    "name": "ipython",
    "version": 3
   },
   "file_extension": ".py",
   "mimetype": "text/x-python",
   "name": "python",
   "nbconvert_exporter": "python",
   "pygments_lexer": "ipython3",
   "version": "3.12.4"
  }
 },
 "nbformat": 4,
 "nbformat_minor": 2
}
